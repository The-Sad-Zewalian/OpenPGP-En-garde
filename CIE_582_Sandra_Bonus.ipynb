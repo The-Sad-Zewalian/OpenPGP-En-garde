{
  "cells": [
    {
      "cell_type": "markdown",
      "metadata": {
        "id": "kTuM28knED91"
      },
      "source": [
        "# Sandra Package\n",
        "[Sandra Package on PyPI](https://pypi.org/project/Sandra/)"
      ]
    },
    {
      "cell_type": "code",
      "execution_count": null,
      "metadata": {
        "colab": {
          "base_uri": "https://localhost:8080/"
        },
        "id": "U1ygY5opi5Ig",
        "outputId": "1026f905-e286-480c-b62c-f528d5e5e8fb"
      },
      "outputs": [
        {
          "output_type": "stream",
          "name": "stdout",
          "text": [
            "Looking in indexes: https://pypi.org/simple, https://us-python.pkg.dev/colab-wheels/public/simple/\n",
            "Collecting Sandra==0.0.18\n",
            "  Downloading Sandra-0.0.18-py3-none-any.whl (8.1 kB)\n",
            "Collecting pycryptodome (from Sandra==0.0.18)\n",
            "  Downloading pycryptodome-3.18.0-cp35-abi3-manylinux_2_17_x86_64.manylinux2014_x86_64.whl (2.1 MB)\n",
            "\u001b[2K     \u001b[90m━━━━━━━━━━━━━━━━━━━━━━━━━━━━━━━━━━━━━━━━\u001b[0m \u001b[32m2.1/2.1 MB\u001b[0m \u001b[31m13.1 MB/s\u001b[0m eta \u001b[36m0:00:00\u001b[0m\n",
            "\u001b[?25hRequirement already satisfied: pandas in /usr/local/lib/python3.10/dist-packages (from Sandra==0.0.18) (1.5.3)\n",
            "Requirement already satisfied: rsa in /usr/local/lib/python3.10/dist-packages (from Sandra==0.0.18) (4.9)\n",
            "Requirement already satisfied: python-dateutil>=2.8.1 in /usr/local/lib/python3.10/dist-packages (from pandas->Sandra==0.0.18) (2.8.2)\n",
            "Requirement already satisfied: pytz>=2020.1 in /usr/local/lib/python3.10/dist-packages (from pandas->Sandra==0.0.18) (2022.7.1)\n",
            "Requirement already satisfied: numpy>=1.21.0 in /usr/local/lib/python3.10/dist-packages (from pandas->Sandra==0.0.18) (1.22.4)\n",
            "Requirement already satisfied: pyasn1>=0.1.3 in /usr/local/lib/python3.10/dist-packages (from rsa->Sandra==0.0.18) (0.5.0)\n",
            "Requirement already satisfied: six>=1.5 in /usr/local/lib/python3.10/dist-packages (from python-dateutil>=2.8.1->pandas->Sandra==0.0.18) (1.16.0)\n",
            "Installing collected packages: pycryptodome, Sandra\n",
            "Successfully installed Sandra-0.0.18 pycryptodome-3.18.0\n"
          ]
        }
      ],
      "source": [
        "!pip install Sandra==0.0.18"
      ]
    },
    {
      "cell_type": "code",
      "execution_count": null,
      "metadata": {
        "id": "FF6DqlTejDmZ"
      },
      "outputs": [],
      "source": [
        "import Sandra\n",
        "import gdown\n",
        "import pandas as pd\n",
        "from google.colab import files\n",
        "import os\n",
        "from Crypto.Util.strxor import strxor\n",
        "from Crypto.Cipher import AES as aes"
      ]
    },
    {
      "cell_type": "code",
      "execution_count": null,
      "metadata": {
        "colab": {
          "base_uri": "https://localhost:8080/"
        },
        "id": "4Kxxxwx5Qooa",
        "outputId": "dfd1d228-687a-4d10-936c-2f9be5339a9c"
      },
      "outputs": [
        {
          "output_type": "stream",
          "name": "stderr",
          "text": [
            "Retrieving folder list\n"
          ]
        },
        {
          "output_type": "stream",
          "name": "stdout",
          "text": [
            "Processing file 1DY-iepTkucfgZCyKUktYmc_yjrBZABQj victoria_1KB.txt\n",
            "Processing file 1WzXmNu8gUgyTxbwOjqIYSl52Np4S0cE5 victory_5KB.txt\n",
            "Processing file 1km818Ld_lNtDx-6uoovQL75vj6Zja8Gg victory_10KB.txt\n",
            "Processing file 1Fc_dv7u6TI8fG5UIboxvd9Afq_5OJx95 victory_100KB.txt\n",
            "Building directory structure completed\n"
          ]
        },
        {
          "output_type": "stream",
          "name": "stderr",
          "text": [
            "Retrieving folder list completed\n",
            "Building directory structure\n",
            "Downloading...\n",
            "From: https://drive.google.com/uc?id=1DY-iepTkucfgZCyKUktYmc_yjrBZABQj\n",
            "To: /content/victory/victoria_1KB.txt\n",
            "100%|██████████| 791/791 [00:00<00:00, 812kB/s]\n",
            "Downloading...\n",
            "From: https://drive.google.com/uc?id=1WzXmNu8gUgyTxbwOjqIYSl52Np4S0cE5\n",
            "To: /content/victory/victory_5KB.txt\n",
            "100%|██████████| 5.09k/5.09k [00:00<00:00, 9.55MB/s]\n",
            "Downloading...\n",
            "From: https://drive.google.com/uc?id=1km818Ld_lNtDx-6uoovQL75vj6Zja8Gg\n",
            "To: /content/victory/victory_10KB.txt\n",
            "100%|██████████| 9.61k/9.61k [00:00<00:00, 20.6MB/s]\n",
            "Downloading...\n",
            "From: https://drive.google.com/uc?id=1Fc_dv7u6TI8fG5UIboxvd9Afq_5OJx95\n",
            "To: /content/victory/victory_100KB.txt\n",
            "100%|██████████| 102k/102k [00:00<00:00, 68.6MB/s]\n",
            "Download completed\n"
          ]
        },
        {
          "output_type": "execute_result",
          "data": {
            "text/plain": [
              "['/content/victory/victoria_1KB.txt',\n",
              " '/content/victory/victory_5KB.txt',\n",
              " '/content/victory/victory_10KB.txt',\n",
              " '/content/victory/victory_100KB.txt']"
            ]
          },
          "metadata": {},
          "execution_count": 3
        }
      ],
      "source": [
        "gdown.download_folder('https://drive.google.com/drive/folders/1ziT1Z1O-CGzrj-QSSaLVSHlzL8Bs1730?usp=sharing')"
      ]
    },
    {
      "cell_type": "markdown",
      "metadata": {
        "id": "5Zj_vPM6NRiu"
      },
      "source": [
        "# Attacking Our OpenPGP Mode\n",
        "\n"
      ]
    },
    {
      "cell_type": "code",
      "execution_count": null,
      "metadata": {
        "id": "xAr9bNQjNZO7"
      },
      "outputs": [],
      "source": [
        "file_names, file_data = Sandra.load_data('./victory')\n",
        "\n",
        "# lets use 1k file\n",
        "plaintext = file_data[-1]\n",
        "\n",
        "R     = bytes.fromhex('12311498000000000000000000000000')\n",
        "_key  = bytes.fromhex('10000000111000011000000360000008')\n",
        "_s    = aes.block_size\n",
        "\n",
        "enc_dec_pgp = Sandra.AES(_key, Sandra.MODE_OPENPGP, R)\n",
        "\n",
        "ciphertext = enc_dec_pgp.encrypt(plaintext)"
      ]
    },
    {
      "cell_type": "code",
      "execution_count": null,
      "metadata": {
        "id": "1i5jPNuoqIEW"
      },
      "outputs": [],
      "source": [
        "def oracle(ciphertext, key, b):\n",
        "  \"\"\"\n",
        "    This function acts as our oracle for the attack\n",
        "    where it does the integrity check and returns its state\n",
        "\n",
        "    Inputs: ciphertext, key used to encrypt and block size\n",
        "\n",
        "    outouts: True if ciphertext passes integrity check\n",
        "             False otherwise\n",
        "  \"\"\"\n",
        "  cipher = aes.new(key, aes.MODE_ECB)\n",
        "\n",
        "  # decrypt the first block\n",
        "  C1 = ciphertext[:b]\n",
        "  R1 = strxor(C1, cipher.encrypt( b'\\x00' * b))\n",
        "\n",
        "  # decrypt the second block(note that its a 2 byte block)\n",
        "  C2 = ciphertext[b:b+2]\n",
        "  R2 = strxor(C2, cipher.encrypt(C1)[:2])\n",
        "\n",
        "  #now, check\n",
        "  if R2 == R1[-2:]:\n",
        "    return True\n",
        "  else:\n",
        "    return False"
      ]
    },
    {
      "cell_type": "code",
      "execution_count": null,
      "metadata": {
        "colab": {
          "base_uri": "https://localhost:8080/"
        },
        "id": "YrvDb64FuaFV",
        "outputId": "f7f4f0e7-7c8e-4231-a339-d269c9967a3e"
      },
      "outputs": [
        {
          "output_type": "stream",
          "name": "stdout",
          "text": [
            "success 9455\n",
            "b'\\xab\\n'\n"
          ]
        }
      ],
      "source": [
        "# lets say we know the first two bytes of first block(M1)\n",
        "M1 = plaintext[:2]\n",
        "\n",
        "# now, we intercepted some C which is equal to Ek(M) for some unknown K\n",
        "C = ciphertext\n",
        "\n",
        "# and we assume a key size of b bytes\n",
        "b = _s\n",
        "\n",
        "# since C1, C2 and C3 are part of C\n",
        "C1 = C[:b]\n",
        "C2 = C[b : b+2]\n",
        "C3 = C[b+2 : b+4]\n",
        "\n",
        "# placeholder for Ek_0_bb\n",
        "Ek_0_bb = b''\n",
        "\n",
        "# we can calculate Ek_C1C2_12 by xoring C3 and M1\n",
        "Ek_C1C2_12 = strxor(C3, M1)\n",
        "\n",
        "for D in range(2**16):\n",
        "  # create\n",
        "  c_dash = C1[2:] + C2 + D.to_bytes(2, 'big') + C[b+2:]\n",
        "  if oracle(c_dash, _key, _s):\n",
        "    print('success', D)\n",
        "    temp = strxor(C2, D.to_bytes(2, 'big'))\n",
        "    Ek_0_bb = strxor(Ek_C1C2_12, temp)\n",
        "    print(Ek_0_bb)"
      ]
    },
    {
      "cell_type": "code",
      "source": [
        "# Note that the original paper had a mistake\n",
        "# where it used Ek(ci) instead of Ek(c(i+2))\n",
        "# the corrected version of the paper is in the following book page 87\n",
        "# https://link.springer.com/chapter/10.1007/11693383_4\n",
        "\n",
        "# lets say we know the first two bytes of msg block(Mi) instead of M1\n",
        "i = 1\n",
        "Mi_plus_1 = plaintext[b*i:b*i+2]\n",
        "C = ciphertext\n",
        "b = _s\n",
        "\n",
        "Ci_plus_2 = C[b*(i) + 2  : b*(i+1) + 2]\n",
        "Ci_plus_3 = C[b*(i+1) + 2  : b*(i+2) + 2]\n",
        "Ek_0_bb = 0\n",
        "\n",
        "Ek_Ci_plus_2_12 = strxor(Ci_plus_3[:2], Mi_plus_1)\n",
        "for D in range(2**16):\n",
        "  c_dash = Ci_plus_2 + D.to_bytes(2, 'big') + C[b+2:]\n",
        "  if oracle(c_dash, _key, _s):\n",
        "    print('success', D)\n",
        "    temp = strxor(Ek_Ci_plus_2_12, D.to_bytes(2, 'big'))\n",
        "    Ek_0_bb = strxor(Ci_plus_2[-2:], temp)\n",
        "    print(Ek_0_bb)\n",
        "    break"
      ],
      "metadata": {
        "colab": {
          "base_uri": "https://localhost:8080/"
        },
        "id": "1_vYe5E6813e",
        "outputId": "71253fe6-45f9-42e5-e85b-472a3dcccc5a"
      },
      "execution_count": null,
      "outputs": [
        {
          "output_type": "stream",
          "name": "stdout",
          "text": [
            "success 21129\n",
            "b'\\xab\\n'\n"
          ]
        }
      ]
    },
    {
      "cell_type": "code",
      "execution_count": null,
      "metadata": {
        "colab": {
          "base_uri": "https://localhost:8080/"
        },
        "id": "1uyCHdrinhaU",
        "outputId": "fba5c735-399a-4fac-bba2-15221ea0795b"
      },
      "outputs": [
        {
          "output_type": "stream",
          "name": "stdout",
          "text": [
            "171 10 171 10\n"
          ]
        }
      ],
      "source": [
        "# lets compare with the original Ek(0)_b-1,b\n",
        "cipher = aes.new(_key, aes.MODE_ECB)\n",
        "true_Ek_0 = cipher.encrypt(b'\\x00' * _s)\n",
        "print(true_Ek_0[-2], true_Ek_0[-1],  Ek_0_bb[0],  Ek_0_bb[1])"
      ]
    },
    {
      "cell_type": "code",
      "execution_count": null,
      "metadata": {
        "id": "PxlOHyvFwbqT"
      },
      "outputs": [],
      "source": [
        "# lets compute the first 2 bytes in all blocks\n",
        "plaintext_dec = b\"\"\n",
        "\n",
        "for i in range(len(ciphertext[18:]) // _s):\n",
        "\n",
        "  Ci_plus_2 = C[b*(i) + 2  : b*(i+1) + 2]\n",
        "  Ci_plus_3 = C[b*(i+1) + 2: b*(i+2) + 2]\n",
        "\n",
        "  for D in range(2**16):\n",
        "    c_dash = Ci_plus_2 + D.to_bytes(2, 'big') + C[b+2:]\n",
        "    if oracle(c_dash, _key, _s):\n",
        "      temp = strxor(Ci_plus_2[-2:], D.to_bytes(2, 'big'))\n",
        "      temp = strxor(Ek_0_bb, temp)\n",
        "      Mi_plus_1 = strxor(Ci_plus_3[:2], temp)\n",
        "      plaintext_dec += Mi_plus_1 + b'-' * (b-2)\n",
        "      break"
      ]
    },
    {
      "cell_type": "code",
      "source": [
        "print(\"{:<10} {:<2} {:<10} {:<2} {:<10} {:<2}\".format('Block No.', '|', 'Attacked', '|', 'Original', '|'))\n",
        "print(\"_\"*40)\n",
        "for i in range(len(ciphertext[18:]) // _s):\n",
        "  print(\"{:<10} {:<2} {:<10} {:<2} {:<10} {:<2}\".format(i+1, '|', str(plaintext_dec[i*b: i*b + 2]), '|', str(plaintext[i*b: i*b + 2]), '|'))\n",
        "  print(\"_\"*40)"
      ],
      "metadata": {
        "colab": {
          "base_uri": "https://localhost:8080/"
        },
        "id": "9afksP2zygzZ",
        "outputId": "b9f47004-5af9-4479-843f-af7a53673ab9"
      },
      "execution_count": null,
      "outputs": [
        {
          "output_type": "stream",
          "name": "stdout",
          "text": [
            "Block No.  |  Attacked   |  Original   | \n",
            "________________________________________\n",
            "1          |  b'Vi'      |  b'Vi'      | \n",
            "________________________________________\n",
            "2          |  b'nl'      |  b'nl'      | \n",
            "________________________________________\n",
            "3          |  b'ai'      |  b'ai'      | \n",
            "________________________________________\n",
            "4          |  b'e '      |  b'e '      | \n",
            "________________________________________\n",
            "5          |  b'an'      |  b'an'      | \n",
            "________________________________________\n",
            "6          |  b'ce'      |  b'ce'      | \n",
            "________________________________________\n",
            "7          |  b'e '      |  b'e '      | \n",
            "________________________________________\n",
            "8          |  b'th'      |  b'th'      | \n",
            "________________________________________\n",
            "9          |  b'om'      |  b'om'      | \n",
            "________________________________________\n",
            "10         |  b'ts'      |  b'ts'      | \n",
            "________________________________________\n",
            "11         |  b'me'      |  b'me'      | \n",
            "________________________________________\n",
            "12         |  b'co'      |  b'co'      | \n",
            "________________________________________\n",
            "13         |  b'de'      |  b'de'      | \n",
            "________________________________________\n",
            "14         |  b'n '      |  b'n '      | \n",
            "________________________________________\n",
            "15         |  b'r '      |  b'r '      | \n",
            "________________________________________\n",
            "16         |  b'n '      |  b'n '      | \n",
            "________________________________________\n",
            "17         |  b'Cl'      |  b'Cl'      | \n",
            "________________________________________\n",
            "18         |  b'. '      |  b'. '      | \n",
            "________________________________________\n",
            "19         |  b'se'      |  b'se'      | \n",
            "________________________________________\n",
            "20         |  b', '      |  b', '      | \n",
            "________________________________________\n",
            "21         |  b'h '      |  b'h '      | \n",
            "________________________________________\n",
            "22         |  b'he'      |  b'he'      | \n",
            "________________________________________\n",
            "23         |  b't '      |  b't '      | \n",
            "________________________________________\n",
            "24         |  b'?\\r'     |  b'?\\r'     | \n",
            "________________________________________\n",
            "25         |  b'he'      |  b'he'      | \n",
            "________________________________________\n",
            "26         |  b'me'      |  b'me'      | \n",
            "________________________________________\n",
            "27         |  b'wo'      |  b'wo'      | \n",
            "________________________________________\n",
            "28         |  b'e '      |  b'e '      | \n",
            "________________________________________\n",
            "29         |  b'd.'      |  b'd.'      | \n",
            "________________________________________\n",
            "30         |  b'ou'      |  b'ou'      | \n",
            "________________________________________\n",
            "31         |  b'po'      |  b'po'      | \n",
            "________________________________________\n",
            "32         |  b'Le'      |  b'Le'      | \n",
            "________________________________________\n",
            "33         |  b'se'      |  b'se'      | \n",
            "________________________________________\n",
            "34         |  b'lm'      |  b'lm'      | \n",
            "________________________________________\n",
            "35         |  b'le'      |  b'le'      | \n",
            "________________________________________\n",
            "36         |  b'an'      |  b'an'      | \n",
            "________________________________________\n",
            "37         |  b't '      |  b't '      | \n",
            "________________________________________\n",
            "38         |  b'es'      |  b'es'      | \n",
            "________________________________________\n",
            "39         |  b'ow'      |  b'ow'      | \n",
            "________________________________________\n",
            "40         |  b'et'      |  b'et'      | \n",
            "________________________________________\n",
            "41         |  b'se'      |  b'se'      | \n",
            "________________________________________\n",
            "42         |  b'he'      |  b'he'      | \n",
            "________________________________________\n",
            "43         |  b' t'      |  b' t'      | \n",
            "________________________________________\n",
            "44         |  b'ob'      |  b'ob'      | \n",
            "________________________________________\n",
            "45         |  b's '      |  b's '      | \n",
            "________________________________________\n",
            "46         |  b'he'      |  b'he'      | \n",
            "________________________________________\n",
            "47         |  b'th'      |  b'th'      | \n",
            "________________________________________\n",
            "48         |  b'n '      |  b'n '      | \n",
            "________________________________________\n",
            "49         |  b'un'      |  b'un'      | \n",
            "________________________________________\n"
          ]
        }
      ]
    }
  ],
  "metadata": {
    "colab": {
      "provenance": [],
      "collapsed_sections": [
        "kTuM28knED91",
        "5Zj_vPM6NRiu"
      ]
    },
    "kernelspec": {
      "display_name": "Python 3",
      "name": "python3"
    },
    "language_info": {
      "name": "python"
    }
  },
  "nbformat": 4,
  "nbformat_minor": 0
}